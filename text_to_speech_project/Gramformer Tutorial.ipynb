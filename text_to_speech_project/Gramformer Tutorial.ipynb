{
 "cells": [
  {
   "cell_type": "markdown",
   "metadata": {},
   "source": [
    "# 1. Install and Import Dependencies"
   ]
  },
  {
   "cell_type": "code",
   "metadata": {
    "ExecuteTime": {
     "end_time": "2025-01-06T16:11:46.259661Z",
     "start_time": "2025-01-06T16:11:44.771848Z"
    }
   },
   "source": "!pip install torch torchvision torchaudio --index-url https://download.pytorch.org/whl/cu124",
   "outputs": [
    {
     "name": "stdout",
     "output_type": "stream",
     "text": [
      "Looking in indexes: https://download.pytorch.org/whl/cu124\n",
      "Requirement already satisfied: torch in c:\\users\\admin\\pycharmprojects\\python_import_libraries\\.venv\\lib\\site-packages (2.5.0+cu124)\n",
      "Requirement already satisfied: torchvision in c:\\users\\admin\\pycharmprojects\\python_import_libraries\\.venv\\lib\\site-packages (0.20.0)\n",
      "Requirement already satisfied: torchaudio in c:\\users\\admin\\pycharmprojects\\python_import_libraries\\.venv\\lib\\site-packages (2.5.0+cu124)\n",
      "Requirement already satisfied: filelock in c:\\users\\admin\\pycharmprojects\\python_import_libraries\\.venv\\lib\\site-packages (from torch) (3.16.1)\n",
      "Requirement already satisfied: typing-extensions>=4.8.0 in c:\\users\\admin\\pycharmprojects\\python_import_libraries\\.venv\\lib\\site-packages (from torch) (4.12.2)\n",
      "Requirement already satisfied: networkx in c:\\users\\admin\\pycharmprojects\\python_import_libraries\\.venv\\lib\\site-packages (from torch) (3.4.2)\n",
      "Requirement already satisfied: jinja2 in c:\\users\\admin\\pycharmprojects\\python_import_libraries\\.venv\\lib\\site-packages (from torch) (3.1.4)\n",
      "Requirement already satisfied: fsspec in c:\\users\\admin\\pycharmprojects\\python_import_libraries\\.venv\\lib\\site-packages (from torch) (2024.10.0)\n",
      "Requirement already satisfied: sympy==1.13.1 in c:\\users\\admin\\pycharmprojects\\python_import_libraries\\.venv\\lib\\site-packages (from torch) (1.13.1)\n",
      "Requirement already satisfied: mpmath<1.4,>=1.1.0 in c:\\users\\admin\\pycharmprojects\\python_import_libraries\\.venv\\lib\\site-packages (from sympy==1.13.1->torch) (1.3.0)\n",
      "Requirement already satisfied: numpy in c:\\users\\admin\\pycharmprojects\\python_import_libraries\\.venv\\lib\\site-packages (from torchvision) (2.0.2)\n",
      "Requirement already satisfied: pillow!=8.3.*,>=5.3.0 in c:\\users\\admin\\pycharmprojects\\python_import_libraries\\.venv\\lib\\site-packages (from torchvision) (11.0.0)\n",
      "Requirement already satisfied: MarkupSafe>=2.0 in c:\\users\\admin\\pycharmprojects\\python_import_libraries\\.venv\\lib\\site-packages (from jinja2->torch) (3.0.2)\n"
     ]
    }
   ],
   "execution_count": 19
  },
  {
   "cell_type": "code",
   "metadata": {
    "ExecuteTime": {
     "end_time": "2025-01-08T10:57:30.703127Z",
     "start_time": "2025-01-08T10:57:24.969588Z"
    }
   },
   "source": "!pip install -U git+https://github.com/PrithivirajDamodaran/Gramformer.git",
   "outputs": [
    {
     "name": "stdout",
     "output_type": "stream",
     "text": [
      "Collecting git+https://github.com/PrithivirajDamodaran/Gramformer.git\n",
      "  Cloning https://github.com/PrithivirajDamodaran/Gramformer.git to c:\\users\\admin\\appdata\\local\\temp\\pip-req-build-y8zvs402\n",
      "  Resolved https://github.com/PrithivirajDamodaran/Gramformer.git to commit 23425cd2e98a919384cab6156af8adf1c9d0639a\n",
      "  Preparing metadata (setup.py): started\n",
      "  Preparing metadata (setup.py): finished with status 'done'\n",
      "Requirement already satisfied: transformers in c:\\users\\admin\\pycharmprojects\\python_import_libraries\\.venv\\lib\\site-packages (from gramformer==1.0) (4.47.1)\n",
      "Requirement already satisfied: sentencepiece in c:\\users\\admin\\pycharmprojects\\python_import_libraries\\.venv\\lib\\site-packages (from gramformer==1.0) (0.2.0)\n",
      "Requirement already satisfied: python-Levenshtein in c:\\users\\admin\\pycharmprojects\\python_import_libraries\\.venv\\lib\\site-packages (from gramformer==1.0) (0.26.1)\n",
      "Requirement already satisfied: fuzzywuzzy in c:\\users\\admin\\pycharmprojects\\python_import_libraries\\.venv\\lib\\site-packages (from gramformer==1.0) (0.18.0)\n",
      "Requirement already satisfied: tokenizers in c:\\users\\admin\\pycharmprojects\\python_import_libraries\\.venv\\lib\\site-packages (from gramformer==1.0) (0.21.0)\n",
      "Requirement already satisfied: fsspec in c:\\users\\admin\\pycharmprojects\\python_import_libraries\\.venv\\lib\\site-packages (from gramformer==1.0) (2024.10.0)\n",
      "Requirement already satisfied: errant in c:\\users\\admin\\pycharmprojects\\python_import_libraries\\.venv\\lib\\site-packages (from gramformer==1.0) (3.0.0)\n",
      "Requirement already satisfied: spacy<4,>=3.2.0 in c:\\users\\admin\\pycharmprojects\\python_import_libraries\\.venv\\lib\\site-packages (from errant->gramformer==1.0) (3.8.3)\n",
      "Requirement already satisfied: rapidfuzz>=3.4.0 in c:\\users\\admin\\pycharmprojects\\python_import_libraries\\.venv\\lib\\site-packages (from errant->gramformer==1.0) (3.11.0)\n",
      "Requirement already satisfied: Levenshtein==0.26.1 in c:\\users\\admin\\pycharmprojects\\python_import_libraries\\.venv\\lib\\site-packages (from python-Levenshtein->gramformer==1.0) (0.26.1)\n",
      "Requirement already satisfied: huggingface-hub<1.0,>=0.16.4 in c:\\users\\admin\\pycharmprojects\\python_import_libraries\\.venv\\lib\\site-packages (from tokenizers->gramformer==1.0) (0.27.0)\n",
      "Requirement already satisfied: filelock in c:\\users\\admin\\pycharmprojects\\python_import_libraries\\.venv\\lib\\site-packages (from transformers->gramformer==1.0) (3.16.1)\n",
      "Requirement already satisfied: numpy>=1.17 in c:\\users\\admin\\pycharmprojects\\python_import_libraries\\.venv\\lib\\site-packages (from transformers->gramformer==1.0) (2.0.2)\n",
      "Requirement already satisfied: packaging>=20.0 in c:\\users\\admin\\pycharmprojects\\python_import_libraries\\.venv\\lib\\site-packages (from transformers->gramformer==1.0) (24.1)\n",
      "Requirement already satisfied: pyyaml>=5.1 in c:\\users\\admin\\pycharmprojects\\python_import_libraries\\.venv\\lib\\site-packages (from transformers->gramformer==1.0) (6.0.2)\n",
      "Requirement already satisfied: regex!=2019.12.17 in c:\\users\\admin\\pycharmprojects\\python_import_libraries\\.venv\\lib\\site-packages (from transformers->gramformer==1.0) (2024.11.6)\n",
      "Requirement already satisfied: requests in c:\\users\\admin\\pycharmprojects\\python_import_libraries\\.venv\\lib\\site-packages (from transformers->gramformer==1.0) (2.32.3)\n",
      "Requirement already satisfied: safetensors>=0.4.1 in c:\\users\\admin\\pycharmprojects\\python_import_libraries\\.venv\\lib\\site-packages (from transformers->gramformer==1.0) (0.4.5)\n",
      "Requirement already satisfied: tqdm>=4.27 in c:\\users\\admin\\pycharmprojects\\python_import_libraries\\.venv\\lib\\site-packages (from transformers->gramformer==1.0) (4.66.5)\n",
      "Requirement already satisfied: typing-extensions>=3.7.4.3 in c:\\users\\admin\\pycharmprojects\\python_import_libraries\\.venv\\lib\\site-packages (from huggingface-hub<1.0,>=0.16.4->tokenizers->gramformer==1.0) (4.12.2)\n",
      "Requirement already satisfied: spacy-legacy<3.1.0,>=3.0.11 in c:\\users\\admin\\pycharmprojects\\python_import_libraries\\.venv\\lib\\site-packages (from spacy<4,>=3.2.0->errant->gramformer==1.0) (3.0.12)\n",
      "Requirement already satisfied: spacy-loggers<2.0.0,>=1.0.0 in c:\\users\\admin\\pycharmprojects\\python_import_libraries\\.venv\\lib\\site-packages (from spacy<4,>=3.2.0->errant->gramformer==1.0) (1.0.5)\n",
      "Requirement already satisfied: murmurhash<1.1.0,>=0.28.0 in c:\\users\\admin\\pycharmprojects\\python_import_libraries\\.venv\\lib\\site-packages (from spacy<4,>=3.2.0->errant->gramformer==1.0) (1.0.11)\n",
      "Requirement already satisfied: cymem<2.1.0,>=2.0.2 in c:\\users\\admin\\pycharmprojects\\python_import_libraries\\.venv\\lib\\site-packages (from spacy<4,>=3.2.0->errant->gramformer==1.0) (2.0.10)\n",
      "Requirement already satisfied: preshed<3.1.0,>=3.0.2 in c:\\users\\admin\\pycharmprojects\\python_import_libraries\\.venv\\lib\\site-packages (from spacy<4,>=3.2.0->errant->gramformer==1.0) (3.0.9)\n",
      "Requirement already satisfied: thinc<8.4.0,>=8.3.0 in c:\\users\\admin\\pycharmprojects\\python_import_libraries\\.venv\\lib\\site-packages (from spacy<4,>=3.2.0->errant->gramformer==1.0) (8.3.3)\n",
      "Requirement already satisfied: wasabi<1.2.0,>=0.9.1 in c:\\users\\admin\\pycharmprojects\\python_import_libraries\\.venv\\lib\\site-packages (from spacy<4,>=3.2.0->errant->gramformer==1.0) (1.1.3)\n",
      "Requirement already satisfied: srsly<3.0.0,>=2.4.3 in c:\\users\\admin\\pycharmprojects\\python_import_libraries\\.venv\\lib\\site-packages (from spacy<4,>=3.2.0->errant->gramformer==1.0) (2.5.0)\n",
      "Requirement already satisfied: catalogue<2.1.0,>=2.0.6 in c:\\users\\admin\\pycharmprojects\\python_import_libraries\\.venv\\lib\\site-packages (from spacy<4,>=3.2.0->errant->gramformer==1.0) (2.0.10)\n",
      "Requirement already satisfied: weasel<0.5.0,>=0.1.0 in c:\\users\\admin\\pycharmprojects\\python_import_libraries\\.venv\\lib\\site-packages (from spacy<4,>=3.2.0->errant->gramformer==1.0) (0.4.1)\n",
      "Requirement already satisfied: typer<1.0.0,>=0.3.0 in c:\\users\\admin\\pycharmprojects\\python_import_libraries\\.venv\\lib\\site-packages (from spacy<4,>=3.2.0->errant->gramformer==1.0) (0.15.1)\n",
      "Requirement already satisfied: pydantic!=1.8,!=1.8.1,<3.0.0,>=1.7.4 in c:\\users\\admin\\pycharmprojects\\python_import_libraries\\.venv\\lib\\site-packages (from spacy<4,>=3.2.0->errant->gramformer==1.0) (2.10.4)\n",
      "Requirement already satisfied: jinja2 in c:\\users\\admin\\pycharmprojects\\python_import_libraries\\.venv\\lib\\site-packages (from spacy<4,>=3.2.0->errant->gramformer==1.0) (3.1.4)\n",
      "Requirement already satisfied: setuptools in c:\\users\\admin\\pycharmprojects\\python_import_libraries\\.venv\\lib\\site-packages (from spacy<4,>=3.2.0->errant->gramformer==1.0) (75.7.0)\n",
      "Requirement already satisfied: langcodes<4.0.0,>=3.2.0 in c:\\users\\admin\\pycharmprojects\\python_import_libraries\\.venv\\lib\\site-packages (from spacy<4,>=3.2.0->errant->gramformer==1.0) (3.5.0)\n",
      "Requirement already satisfied: charset-normalizer<4,>=2 in c:\\users\\admin\\pycharmprojects\\python_import_libraries\\.venv\\lib\\site-packages (from requests->transformers->gramformer==1.0) (2.1.1)\n",
      "Requirement already satisfied: idna<4,>=2.5 in c:\\users\\admin\\pycharmprojects\\python_import_libraries\\.venv\\lib\\site-packages (from requests->transformers->gramformer==1.0) (3.10)\n",
      "Requirement already satisfied: urllib3<3,>=1.21.1 in c:\\users\\admin\\pycharmprojects\\python_import_libraries\\.venv\\lib\\site-packages (from requests->transformers->gramformer==1.0) (1.26.20)\n",
      "Requirement already satisfied: certifi>=2017.4.17 in c:\\users\\admin\\pycharmprojects\\python_import_libraries\\.venv\\lib\\site-packages (from requests->transformers->gramformer==1.0) (2024.8.30)\n",
      "Requirement already satisfied: colorama in c:\\users\\admin\\pycharmprojects\\python_import_libraries\\.venv\\lib\\site-packages (from tqdm>=4.27->transformers->gramformer==1.0) (0.4.6)\n",
      "Requirement already satisfied: language-data>=1.2 in c:\\users\\admin\\pycharmprojects\\python_import_libraries\\.venv\\lib\\site-packages (from langcodes<4.0.0,>=3.2.0->spacy<4,>=3.2.0->errant->gramformer==1.0) (1.3.0)\n",
      "Requirement already satisfied: annotated-types>=0.6.0 in c:\\users\\admin\\pycharmprojects\\python_import_libraries\\.venv\\lib\\site-packages (from pydantic!=1.8,!=1.8.1,<3.0.0,>=1.7.4->spacy<4,>=3.2.0->errant->gramformer==1.0) (0.7.0)\n",
      "Requirement already satisfied: pydantic-core==2.27.2 in c:\\users\\admin\\pycharmprojects\\python_import_libraries\\.venv\\lib\\site-packages (from pydantic!=1.8,!=1.8.1,<3.0.0,>=1.7.4->spacy<4,>=3.2.0->errant->gramformer==1.0) (2.27.2)\n",
      "Requirement already satisfied: blis<1.2.0,>=1.1.0 in c:\\users\\admin\\pycharmprojects\\python_import_libraries\\.venv\\lib\\site-packages (from thinc<8.4.0,>=8.3.0->spacy<4,>=3.2.0->errant->gramformer==1.0) (1.1.0)\n",
      "Requirement already satisfied: confection<1.0.0,>=0.0.1 in c:\\users\\admin\\pycharmprojects\\python_import_libraries\\.venv\\lib\\site-packages (from thinc<8.4.0,>=8.3.0->spacy<4,>=3.2.0->errant->gramformer==1.0) (0.1.5)\n",
      "Requirement already satisfied: click>=8.0.0 in c:\\users\\admin\\pycharmprojects\\python_import_libraries\\.venv\\lib\\site-packages (from typer<1.0.0,>=0.3.0->spacy<4,>=3.2.0->errant->gramformer==1.0) (8.1.3)\n",
      "Requirement already satisfied: shellingham>=1.3.0 in c:\\users\\admin\\pycharmprojects\\python_import_libraries\\.venv\\lib\\site-packages (from typer<1.0.0,>=0.3.0->spacy<4,>=3.2.0->errant->gramformer==1.0) (1.5.4)\n",
      "Requirement already satisfied: rich>=10.11.0 in c:\\users\\admin\\pycharmprojects\\python_import_libraries\\.venv\\lib\\site-packages (from typer<1.0.0,>=0.3.0->spacy<4,>=3.2.0->errant->gramformer==1.0) (13.9.4)\n",
      "Requirement already satisfied: cloudpathlib<1.0.0,>=0.7.0 in c:\\users\\admin\\pycharmprojects\\python_import_libraries\\.venv\\lib\\site-packages (from weasel<0.5.0,>=0.1.0->spacy<4,>=3.2.0->errant->gramformer==1.0) (0.20.0)\n",
      "Requirement already satisfied: smart-open<8.0.0,>=5.2.1 in c:\\users\\admin\\pycharmprojects\\python_import_libraries\\.venv\\lib\\site-packages (from weasel<0.5.0,>=0.1.0->spacy<4,>=3.2.0->errant->gramformer==1.0) (7.1.0)\n",
      "Requirement already satisfied: MarkupSafe>=2.0 in c:\\users\\admin\\pycharmprojects\\python_import_libraries\\.venv\\lib\\site-packages (from jinja2->spacy<4,>=3.2.0->errant->gramformer==1.0) (3.0.2)\n",
      "Requirement already satisfied: marisa-trie>=1.1.0 in c:\\users\\admin\\pycharmprojects\\python_import_libraries\\.venv\\lib\\site-packages (from language-data>=1.2->langcodes<4.0.0,>=3.2.0->spacy<4,>=3.2.0->errant->gramformer==1.0) (1.2.1)\n",
      "Requirement already satisfied: markdown-it-py>=2.2.0 in c:\\users\\admin\\pycharmprojects\\python_import_libraries\\.venv\\lib\\site-packages (from rich>=10.11.0->typer<1.0.0,>=0.3.0->spacy<4,>=3.2.0->errant->gramformer==1.0) (3.0.0)\n",
      "Requirement already satisfied: pygments<3.0.0,>=2.13.0 in c:\\users\\admin\\pycharmprojects\\python_import_libraries\\.venv\\lib\\site-packages (from rich>=10.11.0->typer<1.0.0,>=0.3.0->spacy<4,>=3.2.0->errant->gramformer==1.0) (2.18.0)\n",
      "Requirement already satisfied: wrapt in c:\\users\\admin\\pycharmprojects\\python_import_libraries\\.venv\\lib\\site-packages (from smart-open<8.0.0,>=5.2.1->weasel<0.5.0,>=0.1.0->spacy<4,>=3.2.0->errant->gramformer==1.0) (1.17.0)\n",
      "Requirement already satisfied: mdurl~=0.1 in c:\\users\\admin\\pycharmprojects\\python_import_libraries\\.venv\\lib\\site-packages (from markdown-it-py>=2.2.0->rich>=10.11.0->typer<1.0.0,>=0.3.0->spacy<4,>=3.2.0->errant->gramformer==1.0) (0.1.2)\n"
     ]
    },
    {
     "name": "stderr",
     "output_type": "stream",
     "text": [
      "  Running command git clone --filter=blob:none --quiet https://github.com/PrithivirajDamodaran/Gramformer.git 'C:\\Users\\admin\\AppData\\Local\\Temp\\pip-req-build-y8zvs402'\n"
     ]
    }
   ],
   "execution_count": 25
  },
  {
   "cell_type": "code",
   "metadata": {
    "ExecuteTime": {
     "end_time": "2025-01-09T08:37:34.579602Z",
     "start_time": "2025-01-09T08:37:34.567601Z"
    }
   },
   "source": [
    "from gramformer import Gramformer"
   ],
   "outputs": [],
   "execution_count": 4
  },
  {
   "cell_type": "markdown",
   "metadata": {},
   "source": [
    "# 2. Instantiate Gramformer"
   ]
  },
  {
   "cell_type": "code",
   "metadata": {
    "ExecuteTime": {
     "end_time": "2025-01-09T08:37:38.063081Z",
     "start_time": "2025-01-09T08:37:36.289055Z"
    }
   },
   "source": "gf = Gramformer(models=1, use_gpu=False)",
   "outputs": [
    {
     "name": "stderr",
     "output_type": "stream",
     "text": [
      "C:\\Users\\admin\\PycharmProjects\\python_import_libraries\\.venv\\lib\\site-packages\\transformers\\models\\auto\\tokenization_auto.py:810: FutureWarning: The `use_auth_token` argument is deprecated and will be removed in v5 of Transformers. Please use `token` instead.\n",
      "  warnings.warn(\n",
      "C:\\Users\\admin\\PycharmProjects\\python_import_libraries\\.venv\\lib\\site-packages\\transformers\\models\\auto\\auto_factory.py:471: FutureWarning: The `use_auth_token` argument is deprecated and will be removed in v5 of Transformers. Please use `token` instead.\n",
      "  warnings.warn(\n"
     ]
    },
    {
     "name": "stdout",
     "output_type": "stream",
     "text": [
      "[Gramformer] Grammar error correct/highlight model loaded..\n"
     ]
    }
   ],
   "execution_count": 5
  },
  {
   "cell_type": "markdown",
   "metadata": {},
   "source": [
    "# 3. Run Correction"
   ]
  },
  {
   "cell_type": "code",
   "metadata": {
    "ExecuteTime": {
     "end_time": "2025-01-09T08:40:41.272651Z",
     "start_time": "2025-01-09T08:40:39.632652Z"
    }
   },
   "source": "gf.correct('ve stack wifh goodbecause all businesses should be doing something good').pop()",
   "outputs": [
    {
     "data": {
      "text/plain": [
       "'stack wifh good because all businesses should be doing something good.'"
      ]
     },
     "execution_count": 11,
     "metadata": {},
     "output_type": "execute_result"
    }
   ],
   "execution_count": 11
  }
 ],
 "metadata": {
  "kernelspec": {
   "display_name": "Python 3 (ipykernel)",
   "language": "python",
   "name": "python3"
  },
  "language_info": {
   "codemirror_mode": {
    "name": "ipython",
    "version": 3
   },
   "file_extension": ".py",
   "mimetype": "text/x-python",
   "name": "python",
   "nbconvert_exporter": "python",
   "pygments_lexer": "ipython3",
   "version": "3.7.3"
  }
 },
 "nbformat": 4,
 "nbformat_minor": 2
}
